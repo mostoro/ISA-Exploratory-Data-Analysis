{
 "cells": [
  {
   "cell_type": "code",
   "execution_count": 1,
   "id": "ae963778",
   "metadata": {},
   "outputs": [],
   "source": [
    "import pandas as pd\n",
    "import matplotlib.pyplot as plt\n",
    "import seaborn as sns\n",
    "from statsmodels.tsa.holtwinters import SimpleExpSmoothing\n",
    "from pandas.plotting import lag_plot\n",
    "from pandas.plotting import autocorrelation_plot\n",
    "\n"
   ]
  },
  {
   "cell_type": "code",
   "execution_count": 3,
   "id": "1927c5bd",
   "metadata": {},
   "outputs": [
    {
     "ename": "FileNotFoundError",
     "evalue": "[Errno 2] No such file or directory: '../data/raw/colcap_to_cons.csv'",
     "output_type": "error",
     "traceback": [
      "\u001b[0;31m---------------------------------------------------------------------------\u001b[0m",
      "\u001b[0;31mFileNotFoundError\u001b[0m                         Traceback (most recent call last)",
      "\u001b[0;32m<ipython-input-3-38507d443f0d>\u001b[0m in \u001b[0;36m<module>\u001b[0;34m\u001b[0m\n\u001b[0;32m----> 1\u001b[0;31m \u001b[0mdf_colcap\u001b[0m \u001b[0;34m=\u001b[0m \u001b[0mpd\u001b[0m\u001b[0;34m.\u001b[0m\u001b[0mread_csv\u001b[0m\u001b[0;34m(\u001b[0m\u001b[0;34m'../data/raw/colcap_to_cons.csv'\u001b[0m\u001b[0;34m)\u001b[0m\u001b[0;34m\u001b[0m\u001b[0;34m\u001b[0m\u001b[0m\n\u001b[0m\u001b[1;32m      2\u001b[0m \u001b[0mdf_colcap\u001b[0m\u001b[0;34m[\u001b[0m\u001b[0;34m'Fecha'\u001b[0m\u001b[0;34m]\u001b[0m \u001b[0;34m=\u001b[0m \u001b[0mpd\u001b[0m\u001b[0;34m.\u001b[0m\u001b[0mto_datetime\u001b[0m\u001b[0;34m(\u001b[0m\u001b[0mdf_colcap\u001b[0m\u001b[0;34m[\u001b[0m\u001b[0;34m'Fecha'\u001b[0m\u001b[0;34m]\u001b[0m\u001b[0;34m)\u001b[0m\u001b[0;34m\u001b[0m\u001b[0;34m\u001b[0m\u001b[0m\n\u001b[1;32m      3\u001b[0m \u001b[0mdf_colcap\u001b[0m \u001b[0;34m=\u001b[0m \u001b[0mdf_colcap\u001b[0m\u001b[0;34m.\u001b[0m\u001b[0mset_index\u001b[0m\u001b[0;34m(\u001b[0m\u001b[0;34m'Fecha'\u001b[0m\u001b[0;34m)\u001b[0m\u001b[0;34m\u001b[0m\u001b[0;34m\u001b[0m\u001b[0m\n",
      "\u001b[0;32m/opt/conda/lib/python3.8/site-packages/pandas/io/parsers.py\u001b[0m in \u001b[0;36mread_csv\u001b[0;34m(filepath_or_buffer, sep, delimiter, header, names, index_col, usecols, squeeze, prefix, mangle_dupe_cols, dtype, engine, converters, true_values, false_values, skipinitialspace, skiprows, skipfooter, nrows, na_values, keep_default_na, na_filter, verbose, skip_blank_lines, parse_dates, infer_datetime_format, keep_date_col, date_parser, dayfirst, cache_dates, iterator, chunksize, compression, thousands, decimal, lineterminator, quotechar, quoting, doublequote, escapechar, comment, encoding, dialect, error_bad_lines, warn_bad_lines, delim_whitespace, low_memory, memory_map, float_precision, storage_options)\u001b[0m\n\u001b[1;32m    608\u001b[0m     \u001b[0mkwds\u001b[0m\u001b[0;34m.\u001b[0m\u001b[0mupdate\u001b[0m\u001b[0;34m(\u001b[0m\u001b[0mkwds_defaults\u001b[0m\u001b[0;34m)\u001b[0m\u001b[0;34m\u001b[0m\u001b[0;34m\u001b[0m\u001b[0m\n\u001b[1;32m    609\u001b[0m \u001b[0;34m\u001b[0m\u001b[0m\n\u001b[0;32m--> 610\u001b[0;31m     \u001b[0;32mreturn\u001b[0m \u001b[0m_read\u001b[0m\u001b[0;34m(\u001b[0m\u001b[0mfilepath_or_buffer\u001b[0m\u001b[0;34m,\u001b[0m \u001b[0mkwds\u001b[0m\u001b[0;34m)\u001b[0m\u001b[0;34m\u001b[0m\u001b[0;34m\u001b[0m\u001b[0m\n\u001b[0m\u001b[1;32m    611\u001b[0m \u001b[0;34m\u001b[0m\u001b[0m\n\u001b[1;32m    612\u001b[0m \u001b[0;34m\u001b[0m\u001b[0m\n",
      "\u001b[0;32m/opt/conda/lib/python3.8/site-packages/pandas/io/parsers.py\u001b[0m in \u001b[0;36m_read\u001b[0;34m(filepath_or_buffer, kwds)\u001b[0m\n\u001b[1;32m    460\u001b[0m \u001b[0;34m\u001b[0m\u001b[0m\n\u001b[1;32m    461\u001b[0m     \u001b[0;31m# Create the parser.\u001b[0m\u001b[0;34m\u001b[0m\u001b[0;34m\u001b[0m\u001b[0;34m\u001b[0m\u001b[0m\n\u001b[0;32m--> 462\u001b[0;31m     \u001b[0mparser\u001b[0m \u001b[0;34m=\u001b[0m \u001b[0mTextFileReader\u001b[0m\u001b[0;34m(\u001b[0m\u001b[0mfilepath_or_buffer\u001b[0m\u001b[0;34m,\u001b[0m \u001b[0;34m**\u001b[0m\u001b[0mkwds\u001b[0m\u001b[0;34m)\u001b[0m\u001b[0;34m\u001b[0m\u001b[0;34m\u001b[0m\u001b[0m\n\u001b[0m\u001b[1;32m    463\u001b[0m \u001b[0;34m\u001b[0m\u001b[0m\n\u001b[1;32m    464\u001b[0m     \u001b[0;32mif\u001b[0m \u001b[0mchunksize\u001b[0m \u001b[0;32mor\u001b[0m \u001b[0miterator\u001b[0m\u001b[0;34m:\u001b[0m\u001b[0;34m\u001b[0m\u001b[0;34m\u001b[0m\u001b[0m\n",
      "\u001b[0;32m/opt/conda/lib/python3.8/site-packages/pandas/io/parsers.py\u001b[0m in \u001b[0;36m__init__\u001b[0;34m(self, f, engine, **kwds)\u001b[0m\n\u001b[1;32m    817\u001b[0m             \u001b[0mself\u001b[0m\u001b[0;34m.\u001b[0m\u001b[0moptions\u001b[0m\u001b[0;34m[\u001b[0m\u001b[0;34m\"has_index_names\"\u001b[0m\u001b[0;34m]\u001b[0m \u001b[0;34m=\u001b[0m \u001b[0mkwds\u001b[0m\u001b[0;34m[\u001b[0m\u001b[0;34m\"has_index_names\"\u001b[0m\u001b[0;34m]\u001b[0m\u001b[0;34m\u001b[0m\u001b[0;34m\u001b[0m\u001b[0m\n\u001b[1;32m    818\u001b[0m \u001b[0;34m\u001b[0m\u001b[0m\n\u001b[0;32m--> 819\u001b[0;31m         \u001b[0mself\u001b[0m\u001b[0;34m.\u001b[0m\u001b[0m_engine\u001b[0m \u001b[0;34m=\u001b[0m \u001b[0mself\u001b[0m\u001b[0;34m.\u001b[0m\u001b[0m_make_engine\u001b[0m\u001b[0;34m(\u001b[0m\u001b[0mself\u001b[0m\u001b[0;34m.\u001b[0m\u001b[0mengine\u001b[0m\u001b[0;34m)\u001b[0m\u001b[0;34m\u001b[0m\u001b[0;34m\u001b[0m\u001b[0m\n\u001b[0m\u001b[1;32m    820\u001b[0m \u001b[0;34m\u001b[0m\u001b[0m\n\u001b[1;32m    821\u001b[0m     \u001b[0;32mdef\u001b[0m \u001b[0mclose\u001b[0m\u001b[0;34m(\u001b[0m\u001b[0mself\u001b[0m\u001b[0;34m)\u001b[0m\u001b[0;34m:\u001b[0m\u001b[0;34m\u001b[0m\u001b[0;34m\u001b[0m\u001b[0m\n",
      "\u001b[0;32m/opt/conda/lib/python3.8/site-packages/pandas/io/parsers.py\u001b[0m in \u001b[0;36m_make_engine\u001b[0;34m(self, engine)\u001b[0m\n\u001b[1;32m   1048\u001b[0m             )\n\u001b[1;32m   1049\u001b[0m         \u001b[0;31m# error: Too many arguments for \"ParserBase\"\u001b[0m\u001b[0;34m\u001b[0m\u001b[0;34m\u001b[0m\u001b[0;34m\u001b[0m\u001b[0m\n\u001b[0;32m-> 1050\u001b[0;31m         \u001b[0;32mreturn\u001b[0m \u001b[0mmapping\u001b[0m\u001b[0;34m[\u001b[0m\u001b[0mengine\u001b[0m\u001b[0;34m]\u001b[0m\u001b[0;34m(\u001b[0m\u001b[0mself\u001b[0m\u001b[0;34m.\u001b[0m\u001b[0mf\u001b[0m\u001b[0;34m,\u001b[0m \u001b[0;34m**\u001b[0m\u001b[0mself\u001b[0m\u001b[0;34m.\u001b[0m\u001b[0moptions\u001b[0m\u001b[0;34m)\u001b[0m  \u001b[0;31m# type: ignore[call-arg]\u001b[0m\u001b[0;34m\u001b[0m\u001b[0;34m\u001b[0m\u001b[0m\n\u001b[0m\u001b[1;32m   1051\u001b[0m \u001b[0;34m\u001b[0m\u001b[0m\n\u001b[1;32m   1052\u001b[0m     \u001b[0;32mdef\u001b[0m \u001b[0m_failover_to_python\u001b[0m\u001b[0;34m(\u001b[0m\u001b[0mself\u001b[0m\u001b[0;34m)\u001b[0m\u001b[0;34m:\u001b[0m\u001b[0;34m\u001b[0m\u001b[0;34m\u001b[0m\u001b[0m\n",
      "\u001b[0;32m/opt/conda/lib/python3.8/site-packages/pandas/io/parsers.py\u001b[0m in \u001b[0;36m__init__\u001b[0;34m(self, src, **kwds)\u001b[0m\n\u001b[1;32m   1865\u001b[0m \u001b[0;34m\u001b[0m\u001b[0m\n\u001b[1;32m   1866\u001b[0m         \u001b[0;31m# open handles\u001b[0m\u001b[0;34m\u001b[0m\u001b[0;34m\u001b[0m\u001b[0;34m\u001b[0m\u001b[0m\n\u001b[0;32m-> 1867\u001b[0;31m         \u001b[0mself\u001b[0m\u001b[0;34m.\u001b[0m\u001b[0m_open_handles\u001b[0m\u001b[0;34m(\u001b[0m\u001b[0msrc\u001b[0m\u001b[0;34m,\u001b[0m \u001b[0mkwds\u001b[0m\u001b[0;34m)\u001b[0m\u001b[0;34m\u001b[0m\u001b[0;34m\u001b[0m\u001b[0m\n\u001b[0m\u001b[1;32m   1868\u001b[0m         \u001b[0;32massert\u001b[0m \u001b[0mself\u001b[0m\u001b[0;34m.\u001b[0m\u001b[0mhandles\u001b[0m \u001b[0;32mis\u001b[0m \u001b[0;32mnot\u001b[0m \u001b[0;32mNone\u001b[0m\u001b[0;34m\u001b[0m\u001b[0;34m\u001b[0m\u001b[0m\n\u001b[1;32m   1869\u001b[0m         \u001b[0;32mfor\u001b[0m \u001b[0mkey\u001b[0m \u001b[0;32min\u001b[0m \u001b[0;34m(\u001b[0m\u001b[0;34m\"storage_options\"\u001b[0m\u001b[0;34m,\u001b[0m \u001b[0;34m\"encoding\"\u001b[0m\u001b[0;34m,\u001b[0m \u001b[0;34m\"memory_map\"\u001b[0m\u001b[0;34m,\u001b[0m \u001b[0;34m\"compression\"\u001b[0m\u001b[0;34m)\u001b[0m\u001b[0;34m:\u001b[0m\u001b[0;34m\u001b[0m\u001b[0;34m\u001b[0m\u001b[0m\n",
      "\u001b[0;32m/opt/conda/lib/python3.8/site-packages/pandas/io/parsers.py\u001b[0m in \u001b[0;36m_open_handles\u001b[0;34m(self, src, kwds)\u001b[0m\n\u001b[1;32m   1360\u001b[0m         \u001b[0mLet\u001b[0m \u001b[0mthe\u001b[0m \u001b[0mreaders\u001b[0m \u001b[0mopen\u001b[0m \u001b[0mIOHanldes\u001b[0m \u001b[0mafter\u001b[0m \u001b[0mthey\u001b[0m \u001b[0mare\u001b[0m \u001b[0mdone\u001b[0m \u001b[0;32mwith\u001b[0m \u001b[0mtheir\u001b[0m \u001b[0mpotential\u001b[0m \u001b[0mraises\u001b[0m\u001b[0;34m.\u001b[0m\u001b[0;34m\u001b[0m\u001b[0;34m\u001b[0m\u001b[0m\n\u001b[1;32m   1361\u001b[0m         \"\"\"\n\u001b[0;32m-> 1362\u001b[0;31m         self.handles = get_handle(\n\u001b[0m\u001b[1;32m   1363\u001b[0m             \u001b[0msrc\u001b[0m\u001b[0;34m,\u001b[0m\u001b[0;34m\u001b[0m\u001b[0;34m\u001b[0m\u001b[0m\n\u001b[1;32m   1364\u001b[0m             \u001b[0;34m\"r\"\u001b[0m\u001b[0;34m,\u001b[0m\u001b[0;34m\u001b[0m\u001b[0;34m\u001b[0m\u001b[0m\n",
      "\u001b[0;32m/opt/conda/lib/python3.8/site-packages/pandas/io/common.py\u001b[0m in \u001b[0;36mget_handle\u001b[0;34m(path_or_buf, mode, encoding, compression, memory_map, is_text, errors, storage_options)\u001b[0m\n\u001b[1;32m    645\u001b[0m                 \u001b[0merrors\u001b[0m \u001b[0;34m=\u001b[0m \u001b[0;34m\"replace\"\u001b[0m\u001b[0;34m\u001b[0m\u001b[0;34m\u001b[0m\u001b[0m\n\u001b[1;32m    646\u001b[0m             \u001b[0;31m# Encoding\u001b[0m\u001b[0;34m\u001b[0m\u001b[0;34m\u001b[0m\u001b[0;34m\u001b[0m\u001b[0m\n\u001b[0;32m--> 647\u001b[0;31m             handle = open(\n\u001b[0m\u001b[1;32m    648\u001b[0m                 \u001b[0mhandle\u001b[0m\u001b[0;34m,\u001b[0m\u001b[0;34m\u001b[0m\u001b[0;34m\u001b[0m\u001b[0m\n\u001b[1;32m    649\u001b[0m                 \u001b[0mioargs\u001b[0m\u001b[0;34m.\u001b[0m\u001b[0mmode\u001b[0m\u001b[0;34m,\u001b[0m\u001b[0;34m\u001b[0m\u001b[0;34m\u001b[0m\u001b[0m\n",
      "\u001b[0;31mFileNotFoundError\u001b[0m: [Errno 2] No such file or directory: '../data/raw/colcap_to_cons.csv'"
     ]
    }
   ],
   "source": [
    "df_colcap = pd.read_csv('../data/raw/colcap_to_cons.csv')\n",
    "df_colcap['Fecha'] = pd.to_datetime(df_colcap['Fecha'])\n",
    "df_colcap = df_colcap.set_index('Fecha')"
   ]
  },
  {
   "cell_type": "code",
   "execution_count": null,
   "id": "4e4dbd91",
   "metadata": {
    "scrolled": true
   },
   "outputs": [],
   "source": [
    "df_colcap.describe()"
   ]
  },
  {
   "cell_type": "markdown",
   "id": "6ef5cd13",
   "metadata": {},
   "source": [
    "For an initial analysis it is possible to observe some basic statistical data that give a general context of\n",
    "the information with which it is useful to work\n"
   ]
  },
  {
   "cell_type": "markdown",
   "id": "f0b7f337",
   "metadata": {},
   "source": [
    "## Plotting Price Trend and Returns"
   ]
  },
  {
   "cell_type": "markdown",
   "id": "9862c454",
   "metadata": {},
   "source": [
    "Based on the economic context of the data, the variables that are of greatest interest to analyze\n",
    "the performance of Colcap indicator value are the closing price because it shows the final daily valuation\n",
    "and the returns that allow us to visualize the rate of change of action from day to day.\n"
   ]
  },
  {
   "cell_type": "code",
   "execution_count": null,
   "id": "646db393",
   "metadata": {},
   "outputs": [],
   "source": [
    "ax1 = df_colcap.plot(use_index=True, y='Último', style=['-'], figsize=(25,10), ylabel='Último', legend=False, grid=True)\n",
    "ax2 = df_colcap.plot(use_index=True, y='% var.', style=['-'], figsize=(25,10), ylabel='Variacion%', legend=False, grid=True)\n",
    "\n",
    "\n",
    "plt.title('COLCAP')\n",
    ";"
   ]
  },
  {
   "cell_type": "markdown",
   "id": "aa818dd8",
   "metadata": {},
   "source": [
    "A great performance can be observed between the years 2009 - 2011, followed by a lateralization period of approximately four years (until 2015). After this, a fall to approximately 10,200 to generate a recovery to over 16,000 in 2020. However, as in many economies, the impact of the covid 19 health emergency significantly affected the value, falling to approximately 10,000. In recent years it has been recovering as the emergency has been resolved.\n",
    "Regarding the variation, there are two outstanding periods. In the year 2009 where there was a significant loss prior to the great upward momentum that took the value of the indicator to record highs. And the other period to highlight is the effect of covid 19 that generated the greatest historical variation"
   ]
  },
  {
   "cell_type": "markdown",
   "id": "48a423a3",
   "metadata": {},
   "source": [
    "## Dotted Plot"
   ]
  },
  {
   "cell_type": "markdown",
   "id": "e1c31152",
   "metadata": {},
   "source": [
    "Given that the dataset has a daily variation and we have a dataset that covers a period of 14 years,\n",
    "a dotted graph allows us to see in a little more detail the gap between one sample and the other\n",
    "for both the closing price and the price variation"
   ]
  },
  {
   "cell_type": "code",
   "execution_count": null,
   "id": "2a7b2b59",
   "metadata": {},
   "outputs": [],
   "source": [
    "plt.figure()\n",
    "ax3 = df_colcap['Último'].plot(style='k.', grid=True, figsize=(25,10), ylabel='Closing Price')\n",
    "plt.figure()\n",
    "ax4 = df_colcap['% var.'].plot(style='k.', grid=True, figsize=(25,10), ylabel='Variacion%')\n",
    "\n",
    "\n",
    "\n",
    ";"
   ]
  },
  {
   "cell_type": "markdown",
   "id": "baaaaafe",
   "metadata": {},
   "source": [
    "## Histogram of Prices and Returns"
   ]
  },
  {
   "cell_type": "markdown",
   "id": "3fd1ef3f",
   "metadata": {},
   "source": [
    "Another valuable analysis is knowing the distribution of our variables. One of the most common\n",
    "ways is through a histogram that evaluates and graphically represents the frequency of the data.\n",
    "The price for its variation does not present a normal distribution. However, from these data it can\n",
    "be deduced that the control point (higher frequency) is approximately 13,000 COP, but this one does not look very solid, since there are frequencies almost at the same level in the prices 14,000 - 17,000.\n",
    "On the other hand, the variation presents an apparently normal distribution with some very extreme\n",
    "points reaching below -10% and almost 5%"
   ]
  },
  {
   "cell_type": "code",
   "execution_count": null,
   "id": "69568d09",
   "metadata": {},
   "outputs": [],
   "source": [
    "plt.figure()\n",
    "ax5 = df_colcap['Último'].hist(bins=30, legend=True)\n",
    "\n",
    "plt.figure()\n",
    "ax6 = df_colcap['% var.'].hist(bins=50, legend=True)\n",
    "\n",
    ";"
   ]
  },
  {
   "cell_type": "markdown",
   "id": "848b39a8",
   "metadata": {},
   "source": [
    "## Kernel Density Plot"
   ]
  },
  {
   "cell_type": "markdown",
   "id": "c5d087c3",
   "metadata": {},
   "source": [
    "Continuing with the previous analysis, a better way to understand the behavior of the price and\n",
    "the variation is by analyzing its density, which by smoothing some data gives us an idea of the\n",
    "prices or variations where the confluence has been greater"
   ]
  },
  {
   "cell_type": "code",
   "execution_count": null,
   "id": "419d16a9",
   "metadata": {},
   "outputs": [],
   "source": [
    "plt.figure()\n",
    "ax6 = df_colcap['Último'].plot(kind='kde', grid=True, legend=True)\n",
    "plt.figure()\n",
    "ax6 = df_colcap['% var.'].plot(kind='kde', grid=True, legend=True)\n",
    "\n",
    ";"
   ]
  },
  {
   "cell_type": "markdown",
   "id": "41534a9e",
   "metadata": {},
   "source": [
    "## Plotting Moving Average"
   ]
  },
  {
   "cell_type": "markdown",
   "id": "19dea58f",
   "metadata": {},
   "source": [
    "Another useful strategy to analyze time series is to reduce the variation of the data by applying\n",
    "filters. A first approximation that we present is through a simple moving average comprised of a\n",
    "window of 200 periods that presents the average evolution of the price based on the previous 200\n",
    "data. A window of 200 is used because it is an industry standard measure and is used by many\n",
    "institutions to assess the value of stocks."
   ]
  },
  {
   "cell_type": "code",
   "execution_count": null,
   "id": "7cf01982",
   "metadata": {},
   "outputs": [],
   "source": [
    "ax1 = df_colcap.plot(use_index=True, y='Último', style=['-'], figsize=(25,10), ylabel='Closing Price', legend=False, grid=True)\n",
    "price_mean = df_colcap['Último'].rolling(200, win_type=None).mean()\n",
    "price_mean.plot(style=['-', '--', ':'], grid=True, ylabel='Closing Price')\n",
    "\n",
    "ax22 = df_colcap.plot(use_index=True, y='% var.', style=['-'], figsize=(25,10), ylabel='Variation %', legend=False, grid=True)\n",
    "price_mean = df_colcap['% var.'].rolling(200, win_type=None).mean()\n",
    "price_mean.plot(style=['-', '--', ':'], grid=True, ylabel='Variation %')\n",
    "\n",
    ";"
   ]
  },
  {
   "cell_type": "markdown",
   "id": "3e53c829",
   "metadata": {},
   "source": [
    "## Exponential Smoothing"
   ]
  },
  {
   "cell_type": "markdown",
   "id": "3161923a",
   "metadata": {},
   "source": [
    "Since the ultimate goal is to make a prediction model, it is important to reduce the variation of the\n",
    "variable by smoothing it, however, a linear alternative such as the moving average usually generates\n",
    "time shifts in the data, so non-linear options such as the exponential smoothing allows noise to be\n",
    "smoothed without time shift implications\n"
   ]
  },
  {
   "cell_type": "code",
   "execution_count": null,
   "id": "43d8b7c5",
   "metadata": {},
   "outputs": [],
   "source": [
    "model = SimpleExpSmoothing(df_colcap['Último']).fit(smoothing_level=.1, optimized=True)\n",
    "\n",
    "df_colcap['Último'].plot(marker='o', color='red', ylabel='Closing Price')\n",
    "model.fittedvalues.plot(marker='.', color='blue')\n",
    "\n",
    ";\n"
   ]
  },
  {
   "cell_type": "markdown",
   "id": "ea5917ca",
   "metadata": {},
   "source": [
    "## Lag Plot "
   ]
  },
  {
   "cell_type": "markdown",
   "id": "471d99ee",
   "metadata": {},
   "source": [
    "It is used to check if the series is random or not. Lag plot allows to do a price analysis between the observation of the sample in *t* and *t+1* where it is tried to verify if there is any pattern that shows that the series is not random, in other words to verify the existence of correlation between the samples.\n",
    "\n",
    " In the case of the closing price of the Colcap indicator, there is a positive correlation, which finally implies that its behavior can be modeled.\n",
    " A structure can then be observed that invites us to think of a linear trend in the evolution of the price."
   ]
  },
  {
   "cell_type": "code",
   "execution_count": null,
   "id": "5c17cdf0",
   "metadata": {},
   "outputs": [],
   "source": [
    "lag_plot(df_colcap['Último'])\n",
    "\n",
    ";"
   ]
  },
  {
   "cell_type": "markdown",
   "id": "d8926902",
   "metadata": {},
   "source": [
    "## Autocorrelation Plot"
   ]
  },
  {
   "cell_type": "markdown",
   "id": "d566231c",
   "metadata": {},
   "source": [
    "Autocorrelation plots are a commonly-used tool for checking randomness in a data set. This\n",
    "randomness is ascertained by computing autocorrelations for data values at varying time lags. If\n",
    "random, such autocorrelations should be near zero for any and all time-lag separations. If nonrandom, then one or more of the autocorrelations will be significantly non-zero.\n",
    "Reinforcing the previous conclusion, it can be seen that the correlation of the data is  far\n",
    "from zero in several segments, so the variable of the closing price of the share does not have a random component that\n",
    "predominates its evolution over time.\n"
   ]
  },
  {
   "cell_type": "code",
   "execution_count": null,
   "id": "dc841a8a",
   "metadata": {},
   "outputs": [],
   "source": [
    "autocorrelation_plot(df_colcap['Último'])\n",
    "\n",
    ";"
   ]
  },
  {
   "cell_type": "markdown",
   "id": "93f0a36f",
   "metadata": {},
   "source": [
    "Most of the daily volume traded is 10,000 million COP or less, there are some days with higher volumes but not very frequent. This figure indicates a market with decent liquidity that may attract investors to consider this asset in portfolios."
   ]
  },
  {
   "cell_type": "markdown",
   "id": "864bf7f0",
   "metadata": {},
   "source": [
    "## Yearly price and variation trend (seasonal plot)"
   ]
  },
  {
   "cell_type": "code",
   "execution_count": null,
   "id": "d4e99b3c",
   "metadata": {},
   "outputs": [],
   "source": [
    "df_colcap.reset_index(inplace=True)\n",
    "#df_colcap.insert(2, 'year',  df_colcap['fecha'].apply(lambda x: x.year))\n",
    "#df_colcap.insert(3, 'month',  df_colcap['fecha'].apply(lambda x: x.month))\n",
    "#df_colcap.insert(4, 'day',  df_colcap['fecha'].apply(lambda x: x.day))\n",
    "z = pd.DataFrame(df_colcap.groupby(by = ['year', 'month'])['Último'].mean())\n",
    "z.reset_index(inplace=True)\n",
    "z.set_index('month', inplace=True)\n"
   ]
  },
  {
   "cell_type": "code",
   "execution_count": null,
   "id": "a6063e53",
   "metadata": {},
   "outputs": [],
   "source": [
    "import numpy as np\n",
    "for i in z['year'].unique():\n",
    "    z[z['year'] == i]['Último'].plot(label=i)\n",
    "\n",
    "    \n",
    "\n",
    "plt.legend(loc='center left', bbox_to_anchor=(1, 0.5))\n",
    "plt.ylabel('Closing Price')\n",
    "plt.rcParams[\"figure.figsize\"] = plt.rcParamsDefault[\"figure.figsize\"]\n",
    "plt.xticks(np.arange(0, 13, 1))\n",
    "plt.title('COLCAP - Average closing price per month')\n",
    "plt.show()\n",
    "\n"
   ]
  },
  {
   "cell_type": "markdown",
   "id": "ab5c88a2",
   "metadata": {},
   "source": [
    "\n",
    "There is no clear pattern in the average price trend. There are years where through the months the price has been a bit flat, has fallen or has appreciated a bit.\n",
    "\n",
    "Even for months that can be compared taking into account seasonality, there is no consistent structure that can determine any forecast or index\n"
   ]
  },
  {
   "cell_type": "code",
   "execution_count": null,
   "id": "99b57a9c",
   "metadata": {},
   "outputs": [],
   "source": [
    "w = pd.DataFrame(df_colcap.groupby(by = ['year', 'month'])['% var.'].mean())\n",
    "w.reset_index(inplace=True)\n",
    "w.set_index('month', inplace=True)\n",
    "\n"
   ]
  },
  {
   "cell_type": "code",
   "execution_count": null,
   "id": "0f049efd",
   "metadata": {},
   "outputs": [],
   "source": [
    "import numpy as np\n",
    "for i in w['year'].unique():\n",
    "    w[w['year'] == i]['% var.'].plot(label=i)\n",
    "\n",
    "    \n",
    "\n",
    "plt.legend(loc='center left', bbox_to_anchor=(1, 0.5))\n",
    "plt.ylabel('Volume (millions)')\n",
    "plt.rcParams[\"figure.figsize\"] = plt.rcParamsDefault[\"figure.figsize\"]\n",
    "plt.xticks(np.arange(0, 13, 1))\n",
    "plt.title('COLCAP - Variation per month')\n",
    "plt.grid()\n",
    "plt.show()"
   ]
  },
  {
   "cell_type": "markdown",
   "id": "877fc01c",
   "metadata": {},
   "source": [
    "In general, the variation is in a range between 0.5% and -0.25%. However, there are data a bit far away with variations of -1.25%, -0.75% and almost 0.75%. So it is to be expected that the daily variation of the Colcap index is in the mentioned range, since the vast majority of days since 2008 have been in this range."
   ]
  },
  {
   "cell_type": "code",
   "execution_count": null,
   "id": "0ca1635a",
   "metadata": {},
   "outputs": [],
   "source": [
    "x = z.copy()\n",
    "x.reset_index(inplace=True)\n",
    "x.set_index([\"month\", \"year\"], inplace=True)\n",
    "x.sort_index(inplace=True)\n",
    "\n",
    "for i in range(1, 13, 1):\n",
    "    x[np.in1d(x.index.get_level_values(0), [i])].plot(label=i)\n",
    "    plt.axhline(int(x[np.in1d(x.index.get_level_values(0), [i])].mean()),color=\"red\")\n",
    "    plt.grid()\n",
    "    plt.ylabel('Closing Price')\n",
    "    plt.rcParams[\"figure.figsize\"] = plt.rcParamsDefault[\"figure.figsize\"]\n",
    "    plt.title(i)\n",
    "\n",
    "\n",
    ";"
   ]
  },
  {
   "cell_type": "markdown",
   "id": "8da8a09f",
   "metadata": {},
   "source": [
    "A pattern can be observed in the behavior of the share price in the respective\n",
    "months of the different years. There is an increase in value\n",
    "for each of the periods, and this is preceded by a\n",
    "drop in the price. In general, the index shows consistency in growth,\n",
    "red line is the average of the prices and an average\n",
    "similar around 1,400 COP which is consistent with the price of the point\n",
    "of control mentioned in the previous points"
   ]
  },
  {
   "cell_type": "code",
   "execution_count": null,
   "id": "60994d65",
   "metadata": {},
   "outputs": [],
   "source": [
    "df_colcap.head(2)"
   ]
  },
  {
   "cell_type": "code",
   "execution_count": null,
   "id": "109aca97",
   "metadata": {},
   "outputs": [],
   "source": [
    "df_out = pd.DataFrame()\n",
    "df_out['Date'] = pd.to_datetime(df_colcap['fecha'])\n",
    "df_out['Instrument Name'] = df_colcap['Nemotecnico']\n",
    "df_out['Year'] = df_colcap['year']\n",
    "df_out['Month'] = df_colcap['month']\n",
    "df_out['Day'] = df_colcap['day']\n",
    "df_out['Quantity'] = df_colcap['Cantidad']\n",
    "df_out['High'] = df_colcap['Precio Mayor']\n",
    "df_out['Mid'] = df_colcap['Precio Medio']\n",
    "df_out['Low'] = df_colcap['Precio Menor']\n",
    "df_out['Close'] = df_colcap['Precio Cierre']\n",
    "df_out['Close previous'] = df_colcap['Precio Cierre'].shift(1)\n",
    "df_out['Volume'] = df_colcap['Volumen']\n",
    "df_out['Variation'] = df_colcap['Precio Cierre'].pct_change()*100.0\n",
    "df_out = df_out.set_index('Date').dropna()\n",
    "df_out"
   ]
  },
  {
   "cell_type": "code",
   "execution_count": null,
   "id": "91ade28e",
   "metadata": {},
   "outputs": [],
   "source": [
    "path_out = '../data/dev/ISA.csv'\n",
    "df_out.to_csv(path_out, encoding='utf-8')"
   ]
  }
 ],
 "metadata": {
  "kernelspec": {
   "display_name": "Python 3",
   "language": "python",
   "name": "python3"
  },
  "language_info": {
   "codemirror_mode": {
    "name": "ipython",
    "version": 3
   },
   "file_extension": ".py",
   "mimetype": "text/x-python",
   "name": "python",
   "nbconvert_exporter": "python",
   "pygments_lexer": "ipython3",
   "version": "3.8.8"
  },
  "vscode": {
   "interpreter": {
    "hash": "0fc810cf15582099ffe720f50a47f85ea212b2acd6f2e583055081554804e02b"
   }
  }
 },
 "nbformat": 4,
 "nbformat_minor": 5
}
